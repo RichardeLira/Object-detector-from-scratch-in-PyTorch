{
 "cells": [
  {
   "cell_type": "code",
   "execution_count": 1,
   "metadata": {},
   "outputs": [],
   "source": [
    "import numpy as np \n",
    "import cv2\n",
    "import torch \n",
    "from matplotlib import pyplot as plt \n",
    "import seaborn as sns \n",
    "from Config import Config"
   ]
  },
  {
   "cell_type": "markdown",
   "metadata": {},
   "source": [
    "> # Creating Custor tensor dataset \n"
   ]
  },
  {
   "cell_type": "code",
   "execution_count": 2,
   "metadata": {},
   "outputs": [],
   "source": [
    "# Import the necessary packages \n",
    "\n",
    "from torch.utils.data import Dataset \n",
    "\n",
    "class CustorTensorDataset(Dataset): \n",
    "    def __init__(self,tensor,transforms=None) -> None:\n",
    "        super().__init__()\n",
    "        self.tensor = tensor \n",
    "        self.transforms = transforms\n",
    "\n",
    "    def __getitem__(self, index):\n",
    "        \n",
    "        image = self.tensors[0][index]\n",
    "        label = self.tensors[1][index]\n",
    "        bbox = self.tensors[2][index]\n",
    "\n",
    "        image = image.permute(2,0,1)\n",
    "\n",
    "        if self.transforms: \n",
    "            image = self.transforms(image)\n",
    "\n",
    "\n",
    "        return (image, label, bbox)\n",
    "\n",
    "    def __len__(self):\n",
    "\t\t# return the size of the dataset\n",
    "\t    return self.tensors[0].size(0)\n"
   ]
  },
  {
   "cell_type": "markdown",
   "metadata": {},
   "source": [
    "> # Building the Objection Detection Architecture\n"
   ]
  },
  {
   "cell_type": "code",
   "execution_count": null,
   "metadata": {},
   "outputs": [],
   "source": [
    "from torch.nn import Dropout\n",
    "from torch.nn import Identity\n",
    "from torch.nn import Linear\n",
    "from torch.nn import Module\n",
    "from torch.nn import ReLU\n",
    "from torch.nn import Sequential\n",
    "from torch.nn import Sigmoid\n",
    "\n",
    "\n",
    "\n",
    "class objectDetector(torch.nn.Module): \n",
    "    def __init__(self, baseModel, numClasses):\n",
    "        super(objectDetector,self).__init__()\n",
    "\n",
    "        self.baseModel = baseModel\n",
    "        self.numClasses = numClasses \n",
    "\n",
    "        self.regressor = Sequential ( \n",
    "            Linear(baseModel.fc.in_features, 128),\n",
    "            ReLU(),\n",
    "            Linear(128,64),\n",
    "            ReLU(),\n",
    "            Linear(64,32), \n",
    "            ReLU(), \n",
    "            Linear(32,4), \n",
    "            Sigmoid()\n",
    "\n",
    "        )\n",
    "\n",
    "        # build the classifier head to predict the class labels\n",
    "        self.classifier = Sequential (\n",
    "            Linear(baseModel.fc.in_features, 512),\n",
    "\t\t\tReLU(),\n",
    "\t\t\tDropout(),\n",
    "\t\t\tLinear(512, 512),\n",
    "\t\t\tReLU(),\n",
    "\t\t\tDropout(),\n",
    "\t\t\tLinear(512, self.numClasses)\n",
    "        )\n",
    "\n",
    "        self.baseModel = Identity()\n",
    "\n",
    "    def forward(self, X): \n",
    "        # pass the inputs through the base model and then obtain\n",
    "\t    # predictions from two different branches of the network \n",
    "\n",
    "        features = self.baseModel(X)\n",
    "        bboxes = self.regressor(features)\n",
    "        classLogits = self.classifier(features)\n",
    "\n",
    "        return (bboxes,classLogits)\n"
   ]
  }
 ],
 "metadata": {
  "kernelspec": {
   "display_name": "Python 3.10.7 64-bit",
   "language": "python",
   "name": "python3"
  },
  "language_info": {
   "codemirror_mode": {
    "name": "ipython",
    "version": 3
   },
   "file_extension": ".py",
   "mimetype": "text/x-python",
   "name": "python",
   "nbconvert_exporter": "python",
   "pygments_lexer": "ipython3",
   "version": "3.10.7"
  },
  "orig_nbformat": 4,
  "vscode": {
   "interpreter": {
    "hash": "1a7892181bc6a8b5934ec9e9bbb9c30c52104e5f153701f05479b274bedc3f5b"
   }
  }
 },
 "nbformat": 4,
 "nbformat_minor": 2
}
