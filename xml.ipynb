{
 "cells": [
  {
   "cell_type": "code",
   "execution_count": 1,
   "metadata": {},
   "outputs": [],
   "source": [
    "from xml.etree import ElementTree\n",
    "\n",
    "import os"
   ]
  },
  {
   "cell_type": "code",
   "execution_count": 3,
   "metadata": {},
   "outputs": [
    {
     "ename": "SyntaxError",
     "evalue": "incomplete input (2842055342.py, line 20)",
     "output_type": "error",
     "traceback": [
      "\u001b[1;36m  Cell \u001b[1;32mIn [3], line 20\u001b[1;36m\u001b[0m\n\u001b[1;33m    \u001b[0m\n\u001b[1;37m    ^\u001b[0m\n\u001b[1;31mSyntaxError\u001b[0m\u001b[1;31m:\u001b[0m incomplete input\n"
     ]
    }
   ],
   "source": [
    "from xml.dom import minidom \n",
    "\n",
    "main_path = r\"C:\\Users\\richa\\OneDrive\\Documentos\\Object-detector-from-scratch-in-PyTorch\\annotations\"\n",
    "\n",
    "infos = [\"filename\",\"name\", \"xmin\",\"ymin\",\"xmax\",\"ymax\"]\n",
    "\n",
    "for root, subfolder, filenames in os.walk(main_path):\n",
    "    for filename in filenames:\n",
    "        path = os.path.join(root, filename)\n",
    "        with open(path,\"r\", encoding=\"utf-8\" ) as f: \n",
    "            xml = minidom.parse(f)\n",
    "            for info in infos: \n",
    "                data = xml.getElementsByTagName(info)\n",
    "                tuple_info = ()\n",
    "                for tag in data: \n",
    "                    data.\n",
    "            \n",
    "                     \n",
    "                     \n",
    "                    \n",
    "                      "
   ]
  }
 ],
 "metadata": {
  "kernelspec": {
   "display_name": "Python 3.10.7 64-bit",
   "language": "python",
   "name": "python3"
  },
  "language_info": {
   "codemirror_mode": {
    "name": "ipython",
    "version": 3
   },
   "file_extension": ".py",
   "mimetype": "text/x-python",
   "name": "python",
   "nbconvert_exporter": "python",
   "pygments_lexer": "ipython3",
   "version": "3.10.7"
  },
  "orig_nbformat": 4,
  "vscode": {
   "interpreter": {
    "hash": "1a7892181bc6a8b5934ec9e9bbb9c30c52104e5f153701f05479b274bedc3f5b"
   }
  }
 },
 "nbformat": 4,
 "nbformat_minor": 2
}
